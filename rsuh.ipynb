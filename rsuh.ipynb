{
 "cells": [
  {
   "cell_type": "code",
   "execution_count": null,
   "metadata": {},
   "outputs": [],
   "source": [
    "from selenium import webdriver\n",
    "from selenium.webdriver.chrome.service import Service\n",
    "from selenium.webdriver.common.by import By\n",
    "from webdriver_manager.chrome import ChromeDriverManager\n",
    "from selenium.common.exceptions import StaleElementReferenceException\n",
    "import time\n",
    "import pandas as pd\n",
    "\n",
    "urls = [\n",
    "    'https://spiski.rggu.ru/baccalaureate_list_budget/',\n",
    "    'https://spiski.rggu.ru/baccalaureate_list_contract/'\n",
    "]\n",
    "\n",
    "params = [\n",
    "    '4c0d91311b31d6f27528c61a325b6523',\n",
    "    'df013b654589dbfac98379871b2a538e',\n",
    "    '54507436d0b24b339f22eaa8d1c36a9c',\n",
    "    '0fc9d9072f5ad0255bebde6ae6e570b7',\n",
    "    '61252cb91f061da386db5613c820a82f'\n",
    "]\n",
    "\n",
    "\n",
    "driver = webdriver.Chrome(service=Service(ChromeDriverManager().install()))\n",
    "\n",
    "\n",
    "all_names = []\n",
    "\n",
    "\n",
    "for url in urls:\n",
    "    for param in params:\n",
    "        complete_url = f'{url}#{param}'\n",
    "        driver.get(complete_url)\n",
    "\n",
    "        time.sleep(5)  \n",
    "        for _ in range(3): \n",
    "            try:\n",
    "                rows = driver.find_elements(By.TAG_NAME, 'tr')\n",
    "                break\n",
    "            except StaleElementReferenceException:\n",
    "                time.sleep(1)\n",
    "   \n",
    "        for row in rows:\n",
    "            cells = row.find_elements(By.TAG_NAME, 'td')\n",
    "            if len(cells) > 1: \n",
    "                fio = cells[1].text.strip()\n",
    "                all_names.append(fio)\n",
    "\n",
    "\n",
    "driver.quit()\n",
    "\n",
    "\n",
    "rsuh_sociology = []\n",
    "for name in all_names:\n",
    "    rsuh_sociology.append(name.lower().strip().replace(\"ё\", \"е\"))\n",
    "\n",
    "df = pd.Series(rsuh_sociology)\n",
    "df.to_csv('rsuh_sociology_fio.csv')"
   ]
  },
  {
   "cell_type": "code",
   "execution_count": null,
   "metadata": {},
   "outputs": [],
   "source": []
  }
 ],
 "metadata": {
  "kernelspec": {
   "display_name": "Python 3",
   "language": "python",
   "name": "python3"
  },
  "language_info": {
   "codemirror_mode": {
    "name": "ipython",
    "version": 3
   },
   "file_extension": ".py",
   "mimetype": "text/x-python",
   "name": "python",
   "nbconvert_exporter": "python",
   "pygments_lexer": "ipython3",
   "version": "3.12.2"
  }
 },
 "nbformat": 4,
 "nbformat_minor": 2
}
