{
 "cells": [
  {
   "cell_type": "code",
   "execution_count": null,
   "metadata": {},
   "outputs": [],
   "source": [
    "import requests\n",
    "from bs4 import BeautifulSoup\n",
    "\n",
    "\n",
    "base_url = 'https://admission.rudn.ru'\n",
    "start_url = f'{base_url}/undergraduate/competition_list/6200385/'\n",
    "\n",
    "\n",
    "def parse_page(url):\n",
    "    response = requests.get(url)\n",
    "    response.encoding = 'utf-8'\n",
    "    soup = BeautifulSoup(response.text, 'html.parser')\n",
    "    rows = soup.select('tbody tr')\n",
    "    snils_numbers = []\n",
    "\n",
    "    for row in rows:\n",
    "        snils_cell = row.find('td', class_='snils')\n",
    "        if snils_cell:\n",
    "            snils = snils_cell.get_text(strip=True)\n",
    "            snils_numbers.append(snils)\n",
    "\n",
    "    return snils_numbers, soup\n",
    "\n",
    "\n",
    "all_snils_numbers = []\n",
    "\n",
    "\n",
    "snils_numbers, soup = parse_page(start_url)\n",
    "all_snils_numbers.extend(snils_numbers)\n",
    "\n",
    "\n",
    "page_num = 2\n",
    "for i in range(1, 7):\n",
    "    page_url = f'{base_url}/undergraduate/competition_list/6200385/?LEVEL_CODE=undergraduate&ELEMENT_ID=6200385&PAGEN_2={page_num}'\n",
    "    snils_numbers, soup = parse_page(page_url)\n",
    "    \n",
    "    if not snils_numbers:\n",
    "        break\n",
    "    \n",
    "    all_snils_numbers.extend(snils_numbers)\n",
    "    page_num += 1\n",
    "\n",
    "all_snils_numbers = list(set(all_snils_numbers))\n",
    "\n",
    "rudn_sociology = []\n",
    "\n",
    "for snils in all_snils_numbers:\n",
    "    rudn_sociology.append(snils.strip().replace('-', '').replace(' ', ''))\n",
    "\n",
    "with open('rudn_sociology.txt', 'w') as f:\n",
    "    f.write(' '.join(rudn_sociology))\n",
    "\n",
    "\n"
   ]
  }
 ],
 "metadata": {
  "kernelspec": {
   "display_name": "Python 3",
   "language": "python",
   "name": "python3"
  },
  "language_info": {
   "codemirror_mode": {
    "name": "ipython",
    "version": 3
   },
   "file_extension": ".py",
   "mimetype": "text/x-python",
   "name": "python",
   "nbconvert_exporter": "python",
   "pygments_lexer": "ipython3",
   "version": "3.12.2"
  }
 },
 "nbformat": 4,
 "nbformat_minor": 2
}
